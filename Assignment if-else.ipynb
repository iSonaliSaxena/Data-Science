{
 "cells": [
  {
   "cell_type": "code",
   "execution_count": null,
   "id": "55b26e50",
   "metadata": {},
   "outputs": [],
   "source": [
    "1.Write a Python program that takes two numbers as input and prints the larger number.\n"
   ]
  },
  {
   "cell_type": "code",
   "execution_count": 1,
   "id": "5b024121",
   "metadata": {},
   "outputs": [
    {
     "name": "stdout",
     "output_type": "stream",
     "text": [
      "Enter Two Numbers: \n",
      "20\n",
      "30\n",
      "\n",
      "Largest Number = 30\n"
     ]
    }
   ],
   "source": [
    "print(\"Enter Two Numbers: \")\n",
    "numOne = int(input())\n",
    "numTwo = int(input())\n",
    "\n",
    "if numOne>numTwo:\n",
    "    print(\"\\nLargest Number =\", numOne)\n",
    "else:\n",
    "    print(\"\\nLargest Number =\", numTwo)"
   ]
  },
  {
   "cell_type": "code",
   "execution_count": null,
   "id": "fea25b26",
   "metadata": {},
   "outputs": [],
   "source": [
    "2.Create a Python program that asks the user for a month (1-12) and then prints the corresponding season (\"Spring,\" \"Summer,\" \"Fall,\" or \"Winter\")."
   ]
  },
  {
   "cell_type": "code",
   "execution_count": 2,
   "id": "cbccf259",
   "metadata": {},
   "outputs": [
    {
     "name": "stdout",
     "output_type": "stream",
     "text": [
      "For Month number: 5\n",
      "SPRING\n",
      "For Month number: 10\n",
      "AUTUMN\n"
     ]
    }
   ],
   "source": [
    "# Python3 program to print the season\n",
    "# name based on the month number\n",
    "def findseason (M) :\n",
    "     \n",
    "    # Taken all the possible\n",
    "    # month numbers in the list.\n",
    "    list1 = [[12 , 1 , 2], [3 , 4 , 5], \n",
    "             [6 , 7 , 8], [9 , 10 , 11]]\n",
    "              \n",
    "    # Matching the month number\n",
    "    # with the above list entries \n",
    "    if M in list1[0] :\n",
    "        print ( \"WINTER\" )\n",
    "    elif M in list1[1] :\n",
    "        print ( \"SPRING\" )\n",
    "    elif M in list1[2] :\n",
    "        print ( \"SUMMER\" )\n",
    "    elif M in list1[3] :\n",
    "        print ( \"AUTUMN\" )\n",
    "    else :\n",
    "        print ( \"Invalid Month Number\" )\n",
    " \n",
    "# Driver Code\n",
    "M = 5\n",
    "print(\"For Month number:\", M);\n",
    "findseason ( M )\n",
    " \n",
    "M = 10\n",
    "print(\"For Month number:\", M);\n",
    "findseason ( M )"
   ]
  },
  {
   "cell_type": "code",
   "execution_count": null,
   "id": "0645faf6",
   "metadata": {},
   "outputs": [],
   "source": [
    "3.Write a Python program that determines whether a given year is a leap year or not. Use the leap year rules mentioned earlier."
   ]
  },
  {
   "cell_type": "code",
   "execution_count": 5,
   "id": "8158569e",
   "metadata": {},
   "outputs": [
    {
     "name": "stdout",
     "output_type": "stream",
     "text": [
      "2000 is a leap year\n"
     ]
    }
   ],
   "source": [
    "# Python program to check if year is a leap year or not\n",
    "\n",
    "year = 2000\n",
    "\n",
    "# To get year (integer input) from the user\n",
    "# year = int(input(\"Enter a year: \"))\n",
    "\n",
    "# divided by 100 means century year (ending with 00)\n",
    "# century year divided by 400 is leap year\n",
    "if (year % 400 == 0) and (year % 100 == 0):\n",
    "    print(\"{0} is a leap year\".format(year))\n",
    "    \n",
    "# not divided by 100 means not a century year\n",
    "# year divided by 4 is a leap year\n",
    "elif (year % 4 ==0) and (year % 100 != 0):\n",
    "    print(\"{0} is a leap year\".format(year))\n",
    "\n",
    "# if not divided by both 400 (century year) and 4 (not century year)\n",
    "# year is not leap year\n",
    "else:\n",
    "    print(\"{0} is not a leap year\".format(year))"
   ]
  },
  {
   "cell_type": "code",
   "execution_count": null,
   "id": "806f5a0b",
   "metadata": {},
   "outputs": [],
   "source": [
    "4.Create a program that takes an integer as input and checks if it's positive, negative, or zero. Print an appropriate message."
   ]
  },
  {
   "cell_type": "code",
   "execution_count": 10,
   "id": "e4870807",
   "metadata": {},
   "outputs": [
    {
     "name": "stdout",
     "output_type": "stream",
     "text": [
      "Enter the number : -2\n",
      "Negative\n"
     ]
    }
   ],
   "source": [
    "num = float(input('Enter the number : '))\n",
    "\n",
    "if num > 0:\n",
    "    print('positive')\n",
    "elif num == 0:\n",
    "    print('Zero')\n",
    "else:\n",
    "    print('Negative')"
   ]
  },
  {
   "cell_type": "code",
   "execution_count": null,
   "id": "1cef56c3",
   "metadata": {},
   "outputs": [],
   "source": [
    "5.Write a Python program that asks the user for their age and gender. Based on their age and gender, print a message like \"You are a young man\" or \"You are an old woman.\"\n"
   ]
  },
  {
   "cell_type": "code",
   "execution_count": 13,
   "id": "0bc39d4d",
   "metadata": {},
   "outputs": [
    {
     "name": "stdout",
     "output_type": "stream",
     "text": [
      "enter the age: 23\n",
      "enter the gender (M/F): F\n",
      "You are an old Woman\n"
     ]
    }
   ],
   "source": [
    "# nested if-else\n",
    "\n",
    "age = int(input('enter the age: '))\n",
    "gender = input('enter the gender (M/F): ').upper()\n",
    "\n",
    "if age<18: #satisfy when the age < 18\n",
    "    if gender == 'M':\n",
    "        print('You are a young Boy')\n",
    "    elif gender == 'F':\n",
    "        print('You are a young Girl')\n",
    "        \n",
    "        \n",
    "else: #satisfy when age > 18\n",
    "    if gender == 'M':\n",
    "        print('You are an old man')\n",
    "    elif gender == 'F':\n",
    "        print(\"You are an old Woman\")\n",
    "        \n",
    "    \n",
    "    \n",
    "\n",
    "        \n",
    "\n"
   ]
  },
  {
   "cell_type": "code",
   "execution_count": null,
   "id": "a1a5da60",
   "metadata": {},
   "outputs": [],
   "source": [
    "6.Create a program that takes a temperature in Celsius and converts it to Fahrenheit. Display the result with an appropriate message.\n"
   ]
  },
  {
   "cell_type": "code",
   "execution_count": 14,
   "id": "4f8868b9",
   "metadata": {},
   "outputs": [
    {
     "name": "stdout",
     "output_type": "stream",
     "text": [
      "enter the temperature: 31\n",
      "celsius to fahrenheit conversion in fahrenheit is:  87.8\n"
     ]
    }
   ],
   "source": [
    "# create a program that takes a \n",
    "# temperature in celsius and converts it to Fahrenheit. Display the result with an appropriate message.\n",
    "\n",
    "#temp : float\n",
    "\n",
    "celsius = float(input('enter the temperature: '))\n",
    "\n",
    "# conversion celsius to fahrenheit\n",
    "\n",
    "# multiply by 1.8 (or 9/5) and add 32.\n",
    "\n",
    "fahrenheit = (celsius * 9/5) + 32\n",
    "\n",
    "print('celsius to fahrenheit conversion in fahrenheit is: ', fahrenheit)\n"
   ]
  },
  {
   "cell_type": "code",
   "execution_count": null,
   "id": "367ff3fd",
   "metadata": {},
   "outputs": [],
   "source": [
    "7.Write a Python program that calculates the shipping cost based on the weight of a package. Use the following rules:\n",
    "- Weight <= 2 pounds: $5.00\n",
    "- 2 pounds < Weight <= 10 pounds: $10.00\n",
    "- Weight > 10 pounds: $15.00"
   ]
  },
  {
   "cell_type": "code",
   "execution_count": 16,
   "id": "ac8f2567",
   "metadata": {},
   "outputs": [
    {
     "name": "stdout",
     "output_type": "stream",
     "text": [
      "enter the weight in pounds: 55\n",
      "The shipping cost is:  15.0\n"
     ]
    }
   ],
   "source": [
    "weight = float(input('enter the weight in pounds: '))\n",
    "\n",
    "#shipping cost based on weight\n",
    "\n",
    "if weight <= 2:\n",
    "    shipping_cost = 5.00\n",
    "elif weight <=10:\n",
    "    shipping_cost = 10.00\n",
    "else:\n",
    "    shipping_cost = 15.00\n",
    "    \n",
    "print('The shipping cost is: ', shipping_cost)\n",
    "    \n",
    "    "
   ]
  },
  {
   "cell_type": "code",
   "execution_count": null,
   "id": "737c89d9",
   "metadata": {},
   "outputs": [],
   "source": [
    "8.Create a program that asks the user for three numbers and then prints them in ascending order.\n"
   ]
  },
  {
   "cell_type": "code",
   "execution_count": 19,
   "id": "59d8d0fc",
   "metadata": {},
   "outputs": [
    {
     "name": "stdout",
     "output_type": "stream",
     "text": [
      "enter the number 1: 5\n",
      "enter the number 2: 9\n",
      "enter the number 3: 48\n",
      "Numbers in ascending order are:  [5, 9, 48]\n"
     ]
    }
   ],
   "source": [
    "# create a program that asks the user for three numbers and then prints them in ascending order.\n",
    "\n",
    "# sorted function\n",
    "\n",
    "num1 = int(input(\"enter the number 1: \"))\n",
    "num2 = int(input(\"enter the number 2: \"))\n",
    "num3 = int(input(\"enter the number 3: \"))\n",
    "\n",
    "# sort the numbers in ascending order\n",
    "\n",
    "sorted_numbers = sorted([num1,num2,num3])\n",
    "\n",
    "print(\"Numbers in ascending order are: \",sorted_numbers)"
   ]
  },
  {
   "cell_type": "code",
   "execution_count": null,
   "id": "b9bd64d2",
   "metadata": {},
   "outputs": [],
   "source": [
    "9.Write a Python program that checks if a given year is a \"century year\" (ends in 00). If it's a century year, check if it's a leap year.\n"
   ]
  },
  {
   "cell_type": "code",
   "execution_count": 20,
   "id": "619b069f",
   "metadata": {},
   "outputs": [
    {
     "name": "stdout",
     "output_type": "stream",
     "text": [
      "enter the year: 1999\n",
      "Not a century year\n"
     ]
    }
   ],
   "source": [
    "# write a python program that checks if a given year is a \"century year\" (ends in 00).\n",
    "#if it's a century year, check if it's a Leap year\n",
    "\n",
    "# nested if else\n",
    "\n",
    "year = int(input('enter the year: '))\n",
    "\n",
    "# check  if the number is century year\n",
    "\n",
    "if year%100==0:\n",
    "    if year%400==0:\n",
    "        print(\"it's not a Leap year century\")\n",
    "    else:\n",
    "        print('Not a century leap year')\n",
    "    \n",
    "else:\n",
    "    print('Not a century year')"
   ]
  },
  {
   "cell_type": "code",
   "execution_count": null,
   "id": "6d22570e",
   "metadata": {},
   "outputs": [],
   "source": [
    "10.Create a program that asks the user for a number and then determines if it's even or odd. Print an appropriate message."
   ]
  },
  {
   "cell_type": "code",
   "execution_count": 1,
   "id": "ac2eeb98",
   "metadata": {},
   "outputs": [
    {
     "name": "stdout",
     "output_type": "stream",
     "text": [
      "Enter the Number: 25\n",
      "The number is odd\n"
     ]
    }
   ],
   "source": [
    "# Python program to check if the input number is odd or even.\n",
    "# A number is even if division by 2 gives a remainder of 0.\n",
    "# If the remainder is 1, it is an odd number.\n",
    "\n",
    "\n",
    "num = int (input (\"Enter the Number: \"))\n",
    "\n",
    "if (num % 2) == 0:\n",
    "   print (\"The number is even\")\n",
    "\n",
    "else:\n",
    "   print (\"The number is odd\")\n",
    "    "
   ]
  },
  {
   "cell_type": "code",
   "execution_count": null,
   "id": "b7264a88",
   "metadata": {},
   "outputs": [],
   "source": []
  },
  {
   "cell_type": "code",
   "execution_count": null,
   "id": "8a8bb1f6",
   "metadata": {},
   "outputs": [],
   "source": []
  },
  {
   "cell_type": "code",
   "execution_count": null,
   "id": "5a7edcf2",
   "metadata": {},
   "outputs": [],
   "source": []
  },
  {
   "cell_type": "code",
   "execution_count": null,
   "id": "95b2aae8",
   "metadata": {},
   "outputs": [],
   "source": []
  },
  {
   "cell_type": "code",
   "execution_count": null,
   "id": "ddf681f2",
   "metadata": {},
   "outputs": [],
   "source": []
  },
  {
   "cell_type": "code",
   "execution_count": null,
   "id": "44a32e21",
   "metadata": {},
   "outputs": [],
   "source": []
  },
  {
   "cell_type": "code",
   "execution_count": null,
   "id": "b7b86a9f",
   "metadata": {},
   "outputs": [],
   "source": []
  },
  {
   "cell_type": "code",
   "execution_count": null,
   "id": "3c23dbb6",
   "metadata": {},
   "outputs": [],
   "source": []
  },
  {
   "cell_type": "code",
   "execution_count": null,
   "id": "9f2fa764",
   "metadata": {},
   "outputs": [],
   "source": []
  },
  {
   "cell_type": "code",
   "execution_count": null,
   "id": "c9e6488a",
   "metadata": {},
   "outputs": [],
   "source": []
  },
  {
   "cell_type": "code",
   "execution_count": null,
   "id": "80900b05",
   "metadata": {},
   "outputs": [],
   "source": []
  },
  {
   "cell_type": "code",
   "execution_count": null,
   "id": "72b33857",
   "metadata": {},
   "outputs": [],
   "source": []
  },
  {
   "cell_type": "code",
   "execution_count": null,
   "id": "5656848f",
   "metadata": {},
   "outputs": [],
   "source": []
  },
  {
   "cell_type": "code",
   "execution_count": null,
   "id": "bdca2248",
   "metadata": {},
   "outputs": [],
   "source": []
  },
  {
   "cell_type": "code",
   "execution_count": null,
   "id": "d0858252",
   "metadata": {},
   "outputs": [],
   "source": []
  },
  {
   "cell_type": "code",
   "execution_count": null,
   "id": "84748c84",
   "metadata": {},
   "outputs": [],
   "source": []
  },
  {
   "cell_type": "code",
   "execution_count": null,
   "id": "5e450c02",
   "metadata": {},
   "outputs": [],
   "source": []
  }
 ],
 "metadata": {
  "kernelspec": {
   "display_name": "Python 3 (ipykernel)",
   "language": "python",
   "name": "python3"
  },
  "language_info": {
   "codemirror_mode": {
    "name": "ipython",
    "version": 3
   },
   "file_extension": ".py",
   "mimetype": "text/x-python",
   "name": "python",
   "nbconvert_exporter": "python",
   "pygments_lexer": "ipython3",
   "version": "3.11.4"
  }
 },
 "nbformat": 4,
 "nbformat_minor": 5
}
