{
 "cells": [
  {
   "cell_type": "code",
   "execution_count": null,
   "id": "fc879132",
   "metadata": {},
   "outputs": [
    {
     "name": "stdout",
     "output_type": "stream",
     "text": [
      "Welcome to the ATM\n",
      "Please enter your PIN: 1234\n",
      "ATM Menu:\n",
      "1. Check Balance\n",
      "2. Withdraw\n",
      "3. Deposit\n",
      "4. Exit\n",
      "Enter your choice: 2\n",
      "Enter the amount to withdraw: $1000\n",
      "Withdrew $1000.0. New balance is $0.0\n",
      "ATM Menu:\n",
      "1. Check Balance\n",
      "2. Withdraw\n",
      "3. Deposit\n",
      "4. Exit\n"
     ]
    }
   ],
   "source": [
    "# Define the initial balance\n",
    "balance = 1000\n",
    "\n",
    "# Define the PIN\n",
    "pin = 1234\n",
    "\n",
    "# Function to display the menu\n",
    "def display_menu():\n",
    "    print(\"ATM Menu:\")\n",
    "    print(\"1. Check Balance\")\n",
    "    print(\"2. Withdraw\")\n",
    "    print(\"3. Deposit\")\n",
    "    print(\"4. Exit\")\n",
    "\n",
    "# Function to check balance\n",
    "def check_balance():\n",
    "    print(f\"Your balance is ${balance}\")\n",
    "\n",
    "# Function to withdraw money\n",
    "def withdraw(amount):\n",
    "    global balance\n",
    "    if amount > balance:\n",
    "        print(\"Insufficient balance.\")\n",
    "    else:\n",
    "        balance -= amount\n",
    "        print(f\"Withdrew ${amount}. New balance is ${balance}\")\n",
    "\n",
    "# Function to deposit money\n",
    "def deposit(amount):\n",
    "    global balance\n",
    "    balance += amount\n",
    "    print(f\"Deposited ${amount}. New balance is ${balance}\")\n",
    "\n",
    "# Main program\n",
    "print(\"Welcome to the ATM\")\n",
    "entered_pin = int(input(\"Please enter your PIN: \"))\n",
    "\n",
    "if entered_pin == pin:\n",
    "    while True:\n",
    "        display_menu()\n",
    "        choice = input(\"Enter your choice: \")\n",
    "\n",
    "        if choice == '1':\n",
    "            check_balance()\n",
    "        elif choice == '2':\n",
    "            amount = float(input(\"Enter the amount to withdraw: $\"))\n",
    "            withdraw(amount)\n",
    "        elif choice == '3':\n",
    "            amount = float(input(\"Enter the amount to deposit: $\"))\n",
    "            deposit(amount)\n",
    "        elif choice == '4':\n",
    "            print(\"Thank you for using the ATM. Have a nice day!\")\n",
    "            break\n",
    "        else:\n",
    "            print(\"Invalid choice. Please try again.\")\n",
    "else:\n",
    "    print(\"Invalid PIN. Please try again.\")"
   ]
  },
  {
   "cell_type": "code",
   "execution_count": null,
   "id": "76d052dd",
   "metadata": {},
   "outputs": [],
   "source": []
  },
  {
   "cell_type": "code",
   "execution_count": null,
   "id": "8e3cf261",
   "metadata": {},
   "outputs": [],
   "source": []
  },
  {
   "cell_type": "code",
   "execution_count": null,
   "id": "2a973ff2",
   "metadata": {},
   "outputs": [],
   "source": []
  },
  {
   "cell_type": "code",
   "execution_count": null,
   "id": "3d0a0d27",
   "metadata": {},
   "outputs": [],
   "source": []
  },
  {
   "cell_type": "code",
   "execution_count": null,
   "id": "84982d85",
   "metadata": {},
   "outputs": [],
   "source": []
  },
  {
   "cell_type": "code",
   "execution_count": null,
   "id": "b8a4001e",
   "metadata": {},
   "outputs": [],
   "source": []
  },
  {
   "cell_type": "code",
   "execution_count": null,
   "id": "1d95f0a6",
   "metadata": {},
   "outputs": [],
   "source": []
  },
  {
   "cell_type": "code",
   "execution_count": null,
   "id": "1c726b55",
   "metadata": {},
   "outputs": [],
   "source": []
  },
  {
   "cell_type": "code",
   "execution_count": null,
   "id": "5ed5d3c7",
   "metadata": {},
   "outputs": [],
   "source": []
  }
 ],
 "metadata": {
  "kernelspec": {
   "display_name": "Python 3 (ipykernel)",
   "language": "python",
   "name": "python3"
  },
  "language_info": {
   "codemirror_mode": {
    "name": "ipython",
    "version": 3
   },
   "file_extension": ".py",
   "mimetype": "text/x-python",
   "name": "python",
   "nbconvert_exporter": "python",
   "pygments_lexer": "ipython3",
   "version": "3.11.4"
  }
 },
 "nbformat": 4,
 "nbformat_minor": 5
}
