{
 "cells": [
  {
   "cell_type": "markdown",
   "id": "740163c0",
   "metadata": {},
   "source": [
    "1.\tClass Definition and Object Creation : Create a Python class called \"Student\" that has the following attributes: name, age, and grade. Define an initialization method to initialize these attributes when an object of the class is created. Create an instance of the class and set the attributes. Finally, print the attributes of the student object."
   ]
  },
  {
   "cell_type": "code",
   "execution_count": 6,
   "id": "6c434fd7",
   "metadata": {},
   "outputs": [
    {
     "name": "stdout",
     "output_type": "stream",
     "text": [
      "Amrit Singh\n",
      "16\n",
      "28\n",
      "Rani Rathore\n",
      "16\n",
      "55\n"
     ]
    }
   ],
   "source": [
    "class Student :\n",
    "    pass\n",
    "\n",
    "student1 = Student()\n",
    "student2 = Student()\n",
    "\n",
    "\n",
    "student1.name = 'Amrit Singh'\n",
    "student1.age = 16\n",
    "student1.grade = 28\n",
    "\n",
    "\n",
    "student2.name = 'Rani Rathore'\n",
    "student2.age = 16\n",
    "student2.grade = 55\n",
    "\n",
    "\n",
    "print(student1.name)\n",
    "print(student1.age)\n",
    "print(student1.grade)\n",
    "\n",
    "print(student2.name)\n",
    "print(student2.age)\n",
    "print(student2.grade)"
   ]
  },
  {
   "cell_type": "markdown",
   "id": "35ec6f8d",
   "metadata": {},
   "source": [
    "Methods in a Class: Extend the \"Student\" class from the previous question. Add a method called \"is_passing\" that returns True if the student's grade is greater than or equal to 50 and False otherwise. Create an instance of the class and use this method to check if the student is passing. Display the result."
   ]
  },
  {
   "cell_type": "code",
   "execution_count": 5,
   "id": "432a09be",
   "metadata": {},
   "outputs": [
    {
     "name": "stdout",
     "output_type": "stream",
     "text": [
      "Shiwangi Mishra is PASS\n",
      "Sonali Saxena is FAIL \n",
      "Om veer Singh is FAIL \n"
     ]
    }
   ],
   "source": [
    "class Student :\n",
    "    def __init__(self, name, age, grade) :\n",
    "        self.name = name\n",
    "        self.age = age\n",
    "        self.grade = grade\n",
    "        \n",
    "    def is_passing(self) :\n",
    "        if self.grade >= 50 :\n",
    "            return True\n",
    "        else : \n",
    "            return False\n",
    "        \n",
    "\n",
    "student1 = Student('Shiwangi Mishra', 18, 66)\n",
    "student2 = Student('Sonali Saxena', 18, 22)\n",
    "student3 = Student('Om veer Singh', 18, 44)\n",
    "\n",
    "\n",
    "students = [student1, student2, student3]\n",
    "\n",
    "\n",
    "for x in students :\n",
    "    if x.is_passing() :\n",
    "        print(x.name, 'is PASS')\n",
    "    else :\n",
    "        print(x.name, 'is FAIL ')\n",
    "\n"
   ]
  },
  {
   "cell_type": "markdown",
   "id": "76fb31ca",
   "metadata": {},
   "source": [
    "Inheritance and Subclasses : Create a new class called \"HighSchoolStudent\" that inherits from the \"Student\" class. Add an additional attribute called school_name to the \"HighSchoolStudent\" class. Create an instance of the \"HighSchoolStudent\" class and set both the attributes, including the inherited attributes from the \"Student\" class. Print all the attributes of the high school student."
   ]
  },
  {
   "cell_type": "code",
   "execution_count": 4,
   "id": "b344337a",
   "metadata": {},
   "outputs": [
    {
     "name": "stdout",
     "output_type": "stream",
     "text": [
      "STUDENTS Of High School : \n",
      "Shanu Singh\n",
      "20\n",
      "55\n",
      "Abhilash Mishra\n",
      "20\n",
      "75\n",
      "Raj Patel\n",
      "20\n",
      "27\n"
     ]
    }
   ],
   "source": [
    "class Student :\n",
    "    def __init__(self, name, age, grade) :\n",
    "        self.name = name\n",
    "        self.age = age\n",
    "        self.grade = grade\n",
    "        \n",
    "        \n",
    "\n",
    "student1 = Student('Shiwangi Mishra', 18, 66)\n",
    "student2 = Student('Sonali Saxena', 18, 22)\n",
    "student3 = Student('Saras Sharma', 18, 44)\n",
    "\n",
    "\n",
    "class HighStudent(Student):\n",
    "    def __init__(self,name,age, grade, schoolName):\n",
    "        \n",
    "        super().__init__(name, age, grade)\n",
    "        self.schoolName = schoolName\n",
    "        \n",
    "highstudent1 = HighStudent('Shanu Singh', 20, 55, 'Bandera Public School')    \n",
    "highstudent2 = HighStudent('Abhilash Mishra', 20, 75, 'Nehru International School')  \n",
    "highstudent3 = HighStudent('Raj Patel', 20, 27, 'Asian Public School')  \n",
    "\n",
    "\n",
    "print('STUDENTS Of High School : ')\n",
    "print(highstudent1.name)\n",
    "print(highstudent1.age)\n",
    "print(highstudent1.grade)\n",
    "print(highstudent2.name)\n",
    "print(highstudent2.age)\n",
    "print(highstudent2.grade)\n",
    "print(highstudent3.name)\n",
    "print(highstudent3.age)\n",
    "print(highstudent3.grade)\n"
   ]
  },
  {
   "cell_type": "markdown",
   "id": "f68c4166",
   "metadata": {},
   "source": [
    "4.\tFunction with Parameters : Write a Python function called \"calculate_rectangle_area\" that takes two parameters, length and width, and returns the area of a rectangle. Call the function with different sets of values and display the results."
   ]
  },
  {
   "cell_type": "code",
   "execution_count": 2,
   "id": "2a70aa17",
   "metadata": {},
   "outputs": [
    {
     "name": "stdout",
     "output_type": "stream",
     "text": [
      "Area of Rectangle is  4000\n"
     ]
    }
   ],
   "source": [
    "def calculate_area(l, w) :\n",
    "    return l * w\n",
    "\n",
    "area = calculate_area( 80, 50)\n",
    "print('Area of Rectangle is ' , area)"
   ]
  },
  {
   "cell_type": "markdown",
   "id": "12cbaf9b",
   "metadata": {},
   "source": [
    "Function with Default Parameters : Create a Python function called \"greet\" that takes a name as a parameter and a greeting message as an optional parameter with a default value of \"Hello\". The function should return a formatted greeting message. Test the function by calling it with and without the optional parameter and display the results."
   ]
  },
  {
   "cell_type": "code",
   "execution_count": 1,
   "id": "760da053",
   "metadata": {},
   "outputs": [
    {
     "name": "stdout",
     "output_type": "stream",
     "text": [
      "Hello , Prabhu\n",
      "Hi, Shivani\n"
     ]
    }
   ],
   "source": [
    "def greet(name, greeting = 'Hello ') :\n",
    "    return f'{greeting}, {name}'\n",
    "\n",
    "greet1 = greet('Prabhu')\n",
    "greet2 = greet('Shivani', 'Hi')\n",
    "\n",
    "print(greet1)\n",
    "print(greet2)\n",
    "    "
   ]
  },
  {
   "cell_type": "markdown",
   "id": "2f38fec3",
   "metadata": {},
   "source": [
    "Function with Variable Number of Arguments : Write a Python function called \"calculate_average\" that takes a variable number of arguments and calculates the average of those numbers. Use this function to find the average of 5, 10, 15, and 20, and display the result."
   ]
  },
  {
   "cell_type": "code",
   "execution_count": 1,
   "id": "6eaee60e",
   "metadata": {},
   "outputs": [
    {
     "name": "stdout",
     "output_type": "stream",
     "text": [
      "The average of [5, 10, 15, 20] is 12.5\n"
     ]
    }
   ],
   "source": [
    "def calculate_average(*args):\n",
    "    if len(args) == 0:\n",
    "        return 0\n",
    "    total = sum(args)\n",
    "    return total / len(args)\n",
    "\n",
    "# Example usage:\n",
    "numbers = [5, 10, 15, 20]\n",
    "average = calculate_average(*numbers)\n",
    "print(f\"The average of {numbers} is {average}\")"
   ]
  },
  {
   "cell_type": "code",
   "execution_count": null,
   "id": "66b2ebdc",
   "metadata": {},
   "outputs": [],
   "source": []
  }
 ],
 "metadata": {
  "kernelspec": {
   "display_name": "Python 3 (ipykernel)",
   "language": "python",
   "name": "python3"
  },
  "language_info": {
   "codemirror_mode": {
    "name": "ipython",
    "version": 3
   },
   "file_extension": ".py",
   "mimetype": "text/x-python",
   "name": "python",
   "nbconvert_exporter": "python",
   "pygments_lexer": "ipython3",
   "version": "3.11.4"
  }
 },
 "nbformat": 4,
 "nbformat_minor": 5
}
