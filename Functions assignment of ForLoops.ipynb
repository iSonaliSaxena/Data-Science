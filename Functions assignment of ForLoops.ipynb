{
 "cells": [
  {
   "cell_type": "markdown",
   "id": "8573f771",
   "metadata": {},
   "source": [
    "Print Numbers from 1 to 10 using a for loop:"
   ]
  },
  {
   "cell_type": "code",
   "execution_count": 1,
   "id": "c74ffbd3",
   "metadata": {},
   "outputs": [
    {
     "name": "stdout",
     "output_type": "stream",
     "text": [
      "1\n",
      "2\n",
      "3\n",
      "4\n",
      "5\n",
      "6\n",
      "7\n",
      "8\n",
      "9\n",
      "10\n"
     ]
    }
   ],
   "source": [
    "for i in range(1, 11):\n",
    "    print(i)\n"
   ]
  },
  {
   "cell_type": "markdown",
   "id": "1bf3822b",
   "metadata": {},
   "source": [
    "Create a list of fruits (e.g., [\"apple\", \"banana\", \"cherry\"]) and write a for loop to print each fruit in the list."
   ]
  },
  {
   "cell_type": "code",
   "execution_count": 2,
   "id": "759ac250",
   "metadata": {},
   "outputs": [
    {
     "name": "stdout",
     "output_type": "stream",
     "text": [
      "apple\n",
      "banana\n",
      "cherry\n"
     ]
    }
   ],
   "source": [
    "fruits = [\"apple\", \"banana\", \"cherry\"]\n",
    "for fruit in fruits:\n",
    "    print(fruit)\n"
   ]
  },
  {
   "cell_type": "markdown",
   "id": "7a14f5c1",
   "metadata": {},
   "source": [
    "Create a list of integers, and using a for loop, find and print the largest number in the list."
   ]
  },
  {
   "cell_type": "code",
   "execution_count": 4,
   "id": "7039c91f",
   "metadata": {},
   "outputs": [
    {
     "name": "stdout",
     "output_type": "stream",
     "text": [
      "The largest number is: 89\n"
     ]
    }
   ],
   "source": [
    "numbers = [12, 45, 67, 89, 23, 56, 78]\n",
    "largest = numbers[0]\n",
    "for number in numbers:\n",
    "    if number > largest:\n",
    "        largest = number\n",
    "print(\"The largest number is:\", largest)\n"
   ]
  },
  {
   "cell_type": "markdown",
   "id": "3f0e3e62",
   "metadata": {},
   "source": [
    "Write a Python program that uses a for loop to find and print all the prime numbers between 1 and 100. A prime number is a positive integer greater than 1 that has no positive integer divisors other than 1 and itself."
   ]
  },
  {
   "cell_type": "code",
   "execution_count": 9,
   "id": "29567098",
   "metadata": {},
   "outputs": [
    {
     "name": "stdout",
     "output_type": "stream",
     "text": [
      "2  3  5  7  11  13  17  19  23  29  31  37  41  43  47  53  59  61  67  71  73  79  83  89  97  "
     ]
    }
   ],
   "source": [
    "def is_prime(num):\n",
    "    if num <= 1:\n",
    "        return False\n",
    "    for i in range(2, int(num**0.5) + 1):\n",
    "        if num % i == 0:\n",
    "            return False\n",
    "    return True\n",
    "\n",
    "for number in range(2, 101):\n",
    "    if is_prime(number):\n",
    "        print(number,\" \" ,end='')\n"
   ]
  },
  {
   "cell_type": "markdown",
   "id": "03949da2",
   "metadata": {},
   "source": [
    "Write a Python program that takes a list of dictionaries, where each dictionary represents a person with keys \"name\" and \"age.\" Find and print the average age of all the people in the list."
   ]
  },
  {
   "cell_type": "code",
   "execution_count": 10,
   "id": "6ecd7aa5",
   "metadata": {},
   "outputs": [
    {
     "name": "stdout",
     "output_type": "stream",
     "text": [
      "Average age: 30.0\n"
     ]
    }
   ],
   "source": [
    "people = [{\"name\": \"Alice\", \"age\": 25},\n",
    "          {\"name\": \"Bob\", \"age\": 30},\n",
    "          {\"name\": \"Charlie\", \"age\": 35}]\n",
    "\n",
    "total_age = 0\n",
    "for person in people:\n",
    "    total_age += person[\"age\"]\n",
    "\n",
    "average_age = total_age / len(people)\n",
    "print(\"Average age:\", average_age)\n"
   ]
  },
  {
   "cell_type": "markdown",
   "id": "388b8b98",
   "metadata": {},
   "source": [
    "Create a dictionary representing a simple inventory system for a store. Implement a function that allows you to update the quantity of items in the inventory by specifying the item name and the new quantity."
   ]
  },
  {
   "cell_type": "code",
   "execution_count": 1,
   "id": "a49bf0fb",
   "metadata": {},
   "outputs": [],
   "source": [
    "inventory = {\"apple\": 10, \"banana\": 15, \"cherry\": 20}\n",
    "\n",
    "def update_inventory(item_name, new_quantity):\n",
    "    if item_name in inventory:\n",
    "        inventory[item_name] = new_quantity\n",
    "    else:\n",
    "        print(\"Item not found in inventory.\")\n",
    "\n",
    "# Example usage:\n",
    "update_inventory(\"apple\", 12)  # Updates the quantity of apples to 12\n"
   ]
  },
  {
   "cell_type": "code",
   "execution_count": null,
   "id": "943aaf62",
   "metadata": {},
   "outputs": [],
   "source": []
  },
  {
   "cell_type": "code",
   "execution_count": null,
   "id": "b22db863",
   "metadata": {},
   "outputs": [],
   "source": []
  },
  {
   "cell_type": "code",
   "execution_count": null,
   "id": "4fc6c27c",
   "metadata": {},
   "outputs": [],
   "source": []
  }
 ],
 "metadata": {
  "kernelspec": {
   "display_name": "Python 3 (ipykernel)",
   "language": "python",
   "name": "python3"
  },
  "language_info": {
   "codemirror_mode": {
    "name": "ipython",
    "version": 3
   },
   "file_extension": ".py",
   "mimetype": "text/x-python",
   "name": "python",
   "nbconvert_exporter": "python",
   "pygments_lexer": "ipython3",
   "version": "3.11.4"
  }
 },
 "nbformat": 4,
 "nbformat_minor": 5
}
